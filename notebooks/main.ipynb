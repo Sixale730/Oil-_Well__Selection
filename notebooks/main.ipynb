{
 "cells": [
  {
   "cell_type": "markdown",
   "metadata": {},
   "source": [
    "# Optimization of Oil Exploration: Predictive Modeling and Risk Analysis for Selecting Profitable Wells"
   ]
  },
  {
   "cell_type": "markdown",
   "metadata": {},
   "source": [
    "## 1.- General Information"
   ]
  },
  {
   "cell_type": "markdown",
   "metadata": {},
   "source": [
    "### 1.1.- Initialization"
   ]
  },
  {
   "cell_type": "code",
   "execution_count": 71,
   "metadata": {},
   "outputs": [],
   "source": [
    "import pandas as pd\n",
    "import numpy as np\n",
    "from sklearn.tree import DecisionTreeClassifier\n",
    "from sklearn.ensemble import RandomForestClassifier\n",
    "from sklearn.linear_model import LogisticRegression\n",
    "from sklearn.model_selection import train_test_split\n",
    "from sklearn.metrics import mean_squared_error, accuracy_score, classification_report, confusion_matrix\n",
    "from sklearn.metrics import roc_auc_score\n",
    "from sklearn.metrics import f1_score\n",
    "from sklearn.dummy import DummyClassifier\n",
    "from sklearn.utils import shuffle, resample\n",
    "from sklearn.linear_model import LinearRegression\n",
    "from sklearn.metrics import mean_squared_error, r2_score\n"
   ]
  },
  {
   "cell_type": "code",
   "execution_count": 72,
   "metadata": {},
   "outputs": [],
   "source": [
    "region_1 = pd.read_csv(\"../geo_data_0.csv\")\n",
    "region_2 = pd.read_csv(\"../geo_data_1.csv\")\n",
    "region_3 = pd.read_csv(\"../geo_data_2.csv\")"
   ]
  },
  {
   "cell_type": "markdown",
   "metadata": {},
   "source": [
    "### 1.2.- Preprocessing data"
   ]
  },
  {
   "cell_type": "code",
   "execution_count": 73,
   "metadata": {},
   "outputs": [
    {
     "name": "stdout",
     "output_type": "stream",
     "text": [
      "<class 'pandas.core.frame.DataFrame'>\n",
      "RangeIndex: 100000 entries, 0 to 99999\n",
      "Data columns (total 5 columns):\n",
      " #   Column   Non-Null Count   Dtype  \n",
      "---  ------   --------------   -----  \n",
      " 0   id       100000 non-null  object \n",
      " 1   f0       100000 non-null  float64\n",
      " 2   f1       100000 non-null  float64\n",
      " 3   f2       100000 non-null  float64\n",
      " 4   product  100000 non-null  float64\n",
      "dtypes: float64(4), object(1)\n",
      "memory usage: 3.8+ MB\n"
     ]
    }
   ],
   "source": [
    "region_1 = pd.read_csv(\"../geo_data_0.csv\")\n",
    "region_1.info()"
   ]
  },
  {
   "cell_type": "code",
   "execution_count": 74,
   "metadata": {},
   "outputs": [
    {
     "name": "stdout",
     "output_type": "stream",
     "text": [
      "Duplicated ID in region 1: 10\n",
      "Rows duplicated in region 1: 0\n",
      "Duplicated ID in region 2: 4\n",
      "Rows duplicated in region 2: 0\n",
      "Duplicated ID in region 3: 4\n",
      "Rows duplicated in region 3: 0\n"
     ]
    }
   ],
   "source": [
    "id_duplicates = region_1[\"id\"].duplicated().sum()\n",
    "print(f\"Duplicated ID in region 1: {id_duplicates}\")\n",
    "\n",
    "\n",
    "# Verify if rows are totally duplicated\n",
    "rows_duplicates = region_1.duplicated().sum()\n",
    "print(f\"Rows duplicated in region 1: {rows_duplicates}\")\n",
    "\n",
    "\n",
    "id_duplicates = region_2[\"id\"].duplicated().sum()\n",
    "print(f\"Duplicated ID in region 2: {id_duplicates}\")\n",
    "\n",
    "\n",
    "# Verify if rows are totally duplicated\n",
    "rows_duplicates = region_2.duplicated().sum()\n",
    "print(f\"Rows duplicated in region 2: {rows_duplicates}\")\n",
    "\n",
    "id_duplicates = region_3[\"id\"].duplicated().sum()\n",
    "print(f\"Duplicated ID in region 3: {id_duplicates}\")\n",
    "\n",
    "\n",
    "# Verify if rows are totally duplicated\n",
    "rows_duplicates = region_3.duplicated().sum()\n",
    "print(f\"Rows duplicated in region 3: {rows_duplicates}\")"
   ]
  },
  {
   "cell_type": "code",
   "execution_count": 75,
   "metadata": {},
   "outputs": [
    {
     "name": "stdout",
     "output_type": "stream",
     "text": [
      "0\n",
      "0\n",
      "0\n"
     ]
    }
   ],
   "source": [
    "# Eliminar duplicados manteniendo la primera aparición\n",
    "region_1 = region_1.drop_duplicates(subset=\"id\", keep=\"first\")\n",
    "# Verificar si aún hay duplicados\n",
    "print(region_1[\"id\"].duplicated().sum())  # Debería imprimir 0\n",
    "\n",
    "# Eliminar duplicados manteniendo la primera aparición\n",
    "region_2 = region_2.drop_duplicates(subset=\"id\", keep=\"first\")\n",
    "# Verificar si aún hay duplicados\n",
    "print(region_2[\"id\"].duplicated().sum())  \n",
    "\n",
    "# Eliminar duplicados manteniendo la primera aparición\n",
    "region_3 = region_3.drop_duplicates(subset=\"id\", keep=\"first\")\n",
    "# Verificar si aún hay duplicados\n",
    "print(region_3[\"id\"].duplicated().sum())  "
   ]
  },
  {
   "cell_type": "markdown",
   "metadata": {},
   "source": [
    "## 2.- Model"
   ]
  },
  {
   "cell_type": "markdown",
   "metadata": {},
   "source": [
    "### Region 1"
   ]
  },
  {
   "cell_type": "code",
   "execution_count": 76,
   "metadata": {},
   "outputs": [
    {
     "name": "stdout",
     "output_type": "stream",
     "text": [
      "Train data size: 74992\n",
      "Validation data size: 24998\n"
     ]
    }
   ],
   "source": [
    "target = region_1['product']\n",
    "features = region_1.drop(['product','id'], axis=1)\n",
    "\n",
    "features_train, features_validation, target_train, target_validation = train_test_split(\n",
    "    features, target, test_size=0.25, random_state=12345\n",
    ")\n",
    "\n",
    "# Size verification\n",
    "print(f\"Train data size: {len(features_train)}\")\n",
    "print(f\"Validation data size: {len(features_validation)}\")\n"
   ]
  },
  {
   "cell_type": "code",
   "execution_count": 77,
   "metadata": {},
   "outputs": [
    {
     "name": "stdout",
     "output_type": "stream",
     "text": [
      "Region 1 results:\n",
      "Mean Predicted Reserves Volume: 92.79 (thousands of barrels)\n",
      "Mean Squared Error (MSE): 1432.89\n",
      "Root Mean Squared Error (RMSE): 37.85\n",
      "R² Score: 0.27\n"
     ]
    }
   ],
   "source": [
    "model = LinearRegression()\n",
    "\n",
    "# Train the model using the training data\n",
    "model.fit(features_train, target_train)\n",
    "\n",
    "# Make predictions on the validation set\n",
    "predictions_region_1 = model.predict(features_validation)\n",
    "\n",
    "results_df = pd.DataFrame({\n",
    "    \"Actual\": target_validation.values,\n",
    "    \"Predicted\": predictions_region_1\n",
    "})\n",
    "\n",
    "# Calculate mean predicted reserves volume\n",
    "mean_predicted_volume = predictions_region_1.mean()\n",
    "\n",
    "print('Region 1 results:')\n",
    "print(f\"Mean Predicted Reserves Volume: {mean_predicted_volume:.2f} (thousands of barrels)\")\n",
    "\n",
    "# Calculate evaluation metrics\n",
    "mse = mean_squared_error(target_validation, predictions_region_1)  # Mean Squared Error\n",
    "rmse = mse ** 0.5  # Root Mean Squared Error\n",
    "r2 = r2_score(target_validation, predictions_region_1)  # R² Score\n",
    "\n",
    "# Print results\n",
    "print(f\"Mean Squared Error (MSE): {mse:.2f}\")\n",
    "print(f\"Root Mean Squared Error (RMSE): {rmse:.2f}\")\n",
    "print(f\"R² Score: {r2:.2f}\")\n",
    "\n"
   ]
  },
  {
   "cell_type": "markdown",
   "metadata": {},
   "source": [
    "#### Model Performance Analysis (Region 1)\n",
    "\n",
    "- The model's performance is **low**, with an **R² score of 0.27**, meaning the model only explains **27% of the variance** in the target variable (`product`).\n",
    "- The **high RMSE (37.85)** indicates significant errors in predictions, suggesting that the model struggles to capture the relationship between features and reserves.\n",
    "- The **Mean Squared Error (MSE) of 1432.89** reinforces the presence of large prediction errors.\n",
    "- The **Mean Predicted Reserves Volume is 92.79 thousand barrels**, but the high RMSE suggests that individual predictions may vary widely.\n",
    "- This performance suggests that **linear regression may not be the best fit for this region** and that further data preprocessing, feature selection, or alternative modeling approaches might be needed."
   ]
  },
  {
   "cell_type": "markdown",
   "metadata": {},
   "source": [
    "### Region 2"
   ]
  },
  {
   "cell_type": "code",
   "execution_count": 78,
   "metadata": {},
   "outputs": [
    {
     "name": "stdout",
     "output_type": "stream",
     "text": [
      "Train data size: 74997\n",
      "Validation data size: 24999\n"
     ]
    }
   ],
   "source": [
    "target = region_2['product']\n",
    "features = region_2.drop(['product','id'], axis=1)\n",
    "\n",
    "features_train, features_validation, target_train, target_validation = train_test_split(\n",
    "    features, target, test_size=0.25, random_state=12345\n",
    ")\n",
    "\n",
    "print(f\"Train data size: {len(features_train)}\")\n",
    "print(f\"Validation data size: {len(features_validation)}\")"
   ]
  },
  {
   "cell_type": "code",
   "execution_count": 79,
   "metadata": {},
   "outputs": [
    {
     "name": "stdout",
     "output_type": "stream",
     "text": [
      "Region 2 results:\n",
      "Mean Predicted Reserves Volume: 69.18 (thousands of barrels)\n",
      "Mean Squared Error (MSE): 0.80\n",
      "Root Mean Squared Error (RMSE): 0.89\n",
      "R² Score: 1.00\n"
     ]
    }
   ],
   "source": [
    "model = LinearRegression()\n",
    "\n",
    "# Train the model using the training data\n",
    "model.fit(features_train, target_train)\n",
    "\n",
    "# Make predictions on the validation set\n",
    "predictions_region_2 = model.predict(features_validation)\n",
    "\n",
    "results_df = pd.DataFrame({\n",
    "    \"Actual\": target_validation.values,\n",
    "    \"Predicted\": predictions_region_2\n",
    "})\n",
    "\n",
    "# Calculate mean predicted reserves volume\n",
    "mean_predicted_volume = predictions_region_2.mean()\n",
    "\n",
    "print('Region 2 results:')\n",
    "\n",
    "print(f\"Mean Predicted Reserves Volume: {mean_predicted_volume:.2f} (thousands of barrels)\")\n",
    "\n",
    "# Calculate evaluation metrics\n",
    "mse = mean_squared_error(target_validation, predictions_region_2)  # Mean Squared Error\n",
    "rmse = mse ** 0.5  # Root Mean Squared Error\n",
    "r2 = r2_score(target_validation, predictions_region_2)  # R² Score\n",
    "\n",
    "# Print results\n",
    "print(f\"Mean Squared Error (MSE): {mse:.2f}\")\n",
    "print(f\"Root Mean Squared Error (RMSE): {rmse:.2f}\")\n",
    "print(f\"R² Score: {r2:.2f}\")\n",
    "\n"
   ]
  },
  {
   "cell_type": "markdown",
   "metadata": {},
   "source": [
    "#### Model Performance Analysis (Region 2)\n",
    "\n",
    "- The model's performance is **excellent**, with an **R² score of 1.00**, meaning the model explains **100% of the variance** in the target variable (`product`).\n",
    "- The **low RMSE (0.89)** indicates that the model's predictions are highly accurate, with minimal errors.\n",
    "- The **Mean Squared Error (MSE) of 0.80** further confirms the model's precision.\n",
    "- The **Mean Predicted Reserves Volume is 69.18 thousand barrels**, suggesting that the model predicts a consistent volume for new wells.\n",
    "- Given this perfect performance, the model may be **overfitting**, meaning it might be memorizing the training data instead of generalizing well for new data. Further validation on unseen data is recommended.\n"
   ]
  },
  {
   "cell_type": "markdown",
   "metadata": {},
   "source": [
    "### Region 3"
   ]
  },
  {
   "cell_type": "code",
   "execution_count": 80,
   "metadata": {},
   "outputs": [
    {
     "name": "stdout",
     "output_type": "stream",
     "text": [
      "Train data size: 74997\n",
      "Validation data size: 24999\n"
     ]
    }
   ],
   "source": [
    "target = region_3['product']\n",
    "features = region_3.drop(['product','id'], axis=1)\n",
    "\n",
    "features_train, features_validation, target_train, target_validation = train_test_split(\n",
    "    features, target, test_size=0.25, random_state=12345\n",
    ")\n",
    "\n",
    "# Size verification\n",
    "print(f\"Train data size: {len(features_train)}\")\n",
    "print(f\"Validation data size: {len(features_validation)}\")\n",
    "#print(f\"Test data size: {len(features_test)}\")"
   ]
  },
  {
   "cell_type": "code",
   "execution_count": 81,
   "metadata": {},
   "outputs": [
    {
     "name": "stdout",
     "output_type": "stream",
     "text": [
      "Region 3 results:\n",
      "Mean Predicted Reserves Volume: 94.87 (thousands of barrels)\n",
      "Mean Squared Error (MSE): 1606.07\n",
      "Root Mean Squared Error (RMSE): 40.08\n",
      "R² Score: 0.20\n"
     ]
    }
   ],
   "source": [
    "model = LinearRegression()\n",
    "\n",
    "# Train the model using the training data\n",
    "model.fit(features_train, target_train)\n",
    "\n",
    "# Make predictions on the validation set\n",
    "predictions_region_3 = model.predict(features_validation)\n",
    "\n",
    "results_df = pd.DataFrame({\n",
    "    \"Actual\": target_validation.values,\n",
    "    \"Predicted\": predictions_region_3\n",
    "})\n",
    "\n",
    "# Calculate mean predicted reserves volume\n",
    "mean_predicted_volume = predictions_region_3.mean()\n",
    "\n",
    "print('Region 3 results:')\n",
    "print(f\"Mean Predicted Reserves Volume: {mean_predicted_volume:.2f} (thousands of barrels)\")\n",
    "\n",
    "# Calculate evaluation metrics\n",
    "mse = mean_squared_error(target_validation, predictions_region_3)  # Mean Squared Error\n",
    "rmse = mse ** 0.5  # Root Mean Squared Error\n",
    "r2 = r2_score(target_validation, predictions_region_3)  # R² Score\n",
    "\n",
    "# Print results\n",
    "print(f\"Mean Squared Error (MSE): {mse:.2f}\")\n",
    "print(f\"Root Mean Squared Error (RMSE): {rmse:.2f}\")\n",
    "print(f\"R² Score: {r2:.2f}\")\n",
    "\n"
   ]
  },
  {
   "cell_type": "markdown",
   "metadata": {},
   "source": [
    "#### Model Performance Analysis (Region 3)\n",
    "\n",
    "- The model's performance is **low**, with an **R² score of 0.20**, meaning the model only explains **20% of the variance** in the target variable (`product`).\n",
    "- The **high RMSE (40.08)** suggests significant errors in predictions, indicating poor accuracy.\n",
    "- The **Mean Squared Error (MSE) of 1606.07** confirms that the model struggles to fit the data properly.\n",
    "- The **Mean Predicted Reserves Volume is 94.87 thousand barrels**, but the high RMSE implies that individual predictions may vary significantly.\n",
    "- This weak performance suggests that **linear regression may not be the best model for this region**, or that additional feature engineering and data preprocessing (e.g., removing outliers, normalizing features) might improve results."
   ]
  },
  {
   "cell_type": "markdown",
   "metadata": {},
   "source": [
    "## 3.- Benefits"
   ]
  },
  {
   "cell_type": "code",
   "execution_count": 82,
   "metadata": {},
   "outputs": [
    {
     "name": "stdout",
     "output_type": "stream",
     "text": [
      "Each well must have at least 111.1 thousand barrels to avoid losses.\n"
     ]
    }
   ],
   "source": [
    "# Define key business parameters\n",
    "BUDGET = 100_000_000  # Total budget in dollars\n",
    "WELLS_SELECTED = 200  # Wells to be selected\n",
    "REVENUE_PER_UNIT = 4_500  # Revenue per unit of product (1000 barrels)\n",
    "BREAK_EVEN_UNITS = 111.1  # Minimum units required per well to avoid losses\n",
    "\n",
    "# Calculate the minimum revenue required per well\n",
    "MIN_REVENUE_PER_WELL = BUDGET / WELLS_SELECTED  # $500,000 per well\n",
    "MIN_UNITS_REQUIRED = MIN_REVENUE_PER_WELL / REVENUE_PER_UNIT  # 111.1 reserve units\n",
    "\n",
    "# Display the profitability threshold\n",
    "print(f\"Each well must have at least {MIN_UNITS_REQUIRED:.1f} thousand barrels to avoid losses.\")\n"
   ]
  },
  {
   "cell_type": "markdown",
   "metadata": {},
   "source": [
    "### 3.1.- Top 200 wells"
   ]
  },
  {
   "cell_type": "code",
   "execution_count": 83,
   "metadata": {},
   "outputs": [],
   "source": [
    "def calculate_profit(predicted_volumes):\n",
    "\n",
    "    total_units = np.sum(predicted_volumes)  # Total sum of reserve units\n",
    "    revenue = total_units * REVENUE_PER_UNIT  # Revenue calculation\n",
    "    profit = revenue - BUDGET  # Net profit after investment\n",
    "    \n",
    "    return profit\n"
   ]
  },
  {
   "cell_type": "code",
   "execution_count": 84,
   "metadata": {},
   "outputs": [
    {
     "name": "stdout",
     "output_type": "stream",
     "text": [
      "Expected profit Region 1: $39,816,309.11\n",
      "Expected profit Region 2: $24,860,607.85\n",
      "Expected profit Region 3: $33,629,149.08\n"
     ]
    }
   ],
   "source": [
    "# Top 200 wells\n",
    "top_200_region_1 = np.sort(predictions_region_1)[-WELLS_SELECTED:]\n",
    "top_200_region_2 = np.sort(predictions_region_2)[-WELLS_SELECTED:]\n",
    "top_200_region_3 = np.sort(predictions_region_3)[-WELLS_SELECTED:]\n",
    "\n",
    "# Calculate profit for each region\n",
    "profit_region_1 = calculate_profit(top_200_region_1)\n",
    "profit_region_2 = calculate_profit(top_200_region_2)\n",
    "profit_region_3 = calculate_profit(top_200_region_3)\n",
    "\n",
    "# Show results\n",
    "print(f\"Expected profit Region 1: ${profit_region_1:,.2f}\")\n",
    "print(f\"Expected profit Region 2: ${profit_region_2:,.2f}\")\n",
    "print(f\"Expected profit Region 3: ${profit_region_3:,.2f}\")\n"
   ]
  },
  {
   "cell_type": "code",
   "execution_count": 85,
   "metadata": {},
   "outputs": [
    {
     "name": "stdout",
     "output_type": "stream",
     "text": [
      "The best region to drill is: Region 1 with an expected profit of $39,816,309.11.\n"
     ]
    }
   ],
   "source": [
    "profits = {\n",
    "    \"Region 1\": profit_region_1,\n",
    "    \"Region 2\": profit_region_2,\n",
    "    \"Region 3\": profit_region_3\n",
    "}\n",
    "\n",
    "# Find the best region\n",
    "best_region = max(profits, key=profits.get)\n",
    "print(f\"The best region to drill is: {best_region} with an expected profit of ${profits[best_region]:,.2f}.\")"
   ]
  },
  {
   "cell_type": "markdown",
   "metadata": {},
   "source": [
    "### 3.2.-Risk and profit"
   ]
  },
  {
   "cell_type": "code",
   "execution_count": 86,
   "metadata": {},
   "outputs": [
    {
     "name": "stdout",
     "output_type": "stream",
     "text": [
      "Region 1: Expected Profit = $39,817,209.30, 95% CI = (39075154.68985274, 40614263.0477617), Risk of Loss = 0.00%\n",
      "Region 2: Expected Profit = $24,860,898.46, 95% CI = (24817237.291371483, 24900974.955437575), Risk of Loss = 0.00%\n",
      "Region 3: Expected Profit = $33,612,335.45, 95% CI = (32873007.594096687, 34334083.21033316), Risk of Loss = 0.00%\n"
     ]
    }
   ],
   "source": [
    "def bootstrap_profit(predictions, n_samples=1000):\n",
    "    \"\"\"\n",
    "    Performs bootstrapping to estimate profit distribution.\n",
    "    \n",
    "    Parameters:\n",
    "    - predictions: array of predicted reserve volumes\n",
    "    - n_samples: number of bootstrap iterations (default: 1000)\n",
    "    \n",
    "    Returns:\n",
    "    - Mean expected profit\n",
    "    - 95% confidence interval\n",
    "    - Probability of loss (as a percentage)\n",
    "    \"\"\"\n",
    "    profits = []\n",
    "    \n",
    "    for sample in range(n_samples):\n",
    "        sampled_wells = np.random.choice(predictions, size=WELLS_SELECTED, replace=True)  # Random sample\n",
    "        profit = calculate_profit(sampled_wells)  # Calculate profit for this sample\n",
    "        profits.append(profit)\n",
    "    \n",
    "    profits = np.array(profits)\n",
    "    \n",
    "    # Calculate statistics\n",
    "    mean_profit = np.mean(profits)  # Average expected profit\n",
    "    lower_bound, upper_bound = np.percentile(profits, [2.5, 97.5])  # 95% confidence interval\n",
    "    loss_risk = (profits < 0).mean() * 100  # Probability of negative profit (as a percentage)\n",
    "    \n",
    "    return mean_profit, (lower_bound, upper_bound), loss_risk\n",
    "\n",
    "# Apply bootstrapping to each region\n",
    "mean_profit_1, conf_interval_1, loss_risk_1 = bootstrap_profit(top_200_region_1)\n",
    "mean_profit_2, conf_interval_2, loss_risk_2 = bootstrap_profit(top_200_region_2)\n",
    "mean_profit_3, conf_interval_3, loss_risk_3 = bootstrap_profit(top_200_region_3)\n",
    "\n",
    "# Display results\n",
    "print(f\"Region 1: Expected Profit = ${mean_profit_1:,.2f}, 95% CI = {conf_interval_1}, Risk of Loss = {loss_risk_1:.2f}%\")\n",
    "print(f\"Region 2: Expected Profit = ${mean_profit_2:,.2f}, 95% CI = {conf_interval_2}, Risk of Loss = {loss_risk_2:.2f}%\")\n",
    "print(f\"Region 3: Expected Profit = ${mean_profit_3:,.2f}, 95% CI = {conf_interval_3}, Risk of Loss = {loss_risk_3:.2f}%\")\n"
   ]
  },
  {
   "cell_type": "code",
   "execution_count": 87,
   "metadata": {},
   "outputs": [
    {
     "name": "stdout",
     "output_type": "stream",
     "text": [
      "The best region for oil extraction is Region 1, with an expected profit of $39,789,460.50.\n",
      "Risk of loss: 0.00% (below the 2.5% threshold).\n",
      "95% confidence interval: (39055151.21062289, 40575458.53052304)\n"
     ]
    }
   ],
   "source": [
    "# Store results in a dictionary\n",
    "results = {\n",
    "    \"Region 1\": {\"Profit\": mean_profit_1, \"CI\": conf_interval_1, \"Risk\": loss_risk_1},\n",
    "    \"Region 2\": {\"Profit\": mean_profit_2, \"CI\": conf_interval_2, \"Risk\": loss_risk_2},\n",
    "    \"Region 3\": {\"Profit\": mean_profit_3, \"CI\": conf_interval_3, \"Risk\": loss_risk_3}\n",
    "}\n",
    "\n",
    "# Print final recommendation\n",
    "print(f\"The best region for oil extraction is {best_region}, with an expected profit of ${best_profit:,.2f}.\")\n",
    "print(f\"Risk of loss: {best_risk:.2f}% (below the 2.5% threshold).\")\n",
    "print(f\"95% confidence interval: {best_ci}\")\n",
    "\n"
   ]
  },
  {
   "cell_type": "markdown",
   "metadata": {},
   "source": [
    "## Conclusions\n",
    "\n",
    "\n",
    "\n"
   ]
  },
  {
   "cell_type": "markdown",
   "metadata": {},
   "source": [
    "### 📌 Final Conclusion: Best Region for Oil Extraction\n",
    "\n",
    "#### **📊 Profit and Risk Analysis**\n",
    "- The best region for oil extraction is **Region 1**, with an **expected profit of $39,789,460.50**.\n",
    "- The **risk of loss is 0.00%**, which is well below the **2.5% threshold**, ensuring a highly stable investment.\n",
    "- The **95% confidence interval** for expected profit is **($39,055,151.21, $40,575,458.53)**, indicating a narrow and reliable range.\n",
    "\n",
    "#### **✅ Decision Justification**\n",
    "- Region 1 provides the **highest profit potential** with virtually no risk of loss.\n",
    "- The confidence interval suggests **low variability**, making this a **secure investment**.\n",
    "- Given these results, **Region 1 is strongly recommended** for developing the 200 new oil wells.\n",
    "\n",
    "🚀 **Next Steps:**\n",
    "- Move forward with planning and resource allocation for drilling in **Region 1**.\n",
    "- Continue monitoring oil price fluctuations and potential geological factors to ensure long-term profitability.\n"
   ]
  }
 ],
 "metadata": {
  "kernelspec": {
   "display_name": "projects_env",
   "language": "python",
   "name": "python3"
  },
  "language_info": {
   "codemirror_mode": {
    "name": "ipython",
    "version": 3
   },
   "file_extension": ".py",
   "mimetype": "text/x-python",
   "name": "python",
   "nbconvert_exporter": "python",
   "pygments_lexer": "ipython3",
   "version": "3.12.7"
  }
 },
 "nbformat": 4,
 "nbformat_minor": 2
}
